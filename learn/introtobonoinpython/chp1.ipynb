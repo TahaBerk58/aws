{
 "cells": [
  {
   "cell_type": "markdown",
   "metadata": {},
   "source": [
    "AWS Services\n",
    "IAM, S3, SNS, Comprehend and Rekognition\n",
    "AWS Key / Secret\n",
    "Connecting to S3 Using Boto"
   ]
  },
  {
   "cell_type": "code",
   "execution_count": null,
   "metadata": {},
   "outputs": [],
   "source": [
    "#creating bptp3 client\n",
    "import boto3\n",
    "\n",
    "s3 = boto3.client('s3',\n",
    "                 region_name='us-east-1',\n",
    "                 aws_access_key_id=AWS_KEY_ID,\n",
    "                 aws_secret_access_key=AWS_SECRET)\n",
    "\n",
    "response = s3.list_buckets()"
   ]
  },
  {
   "cell_type": "code",
   "execution_count": null,
   "metadata": {},
   "outputs": [],
   "source": [
    "#create bucket\n",
    "bucket = s3.create_bucket(Bucket='gid-request')\n",
    "\n",
    "#list buckets\n",
    "bucket_response = s3.list_buckets()\n",
    "\n",
    "#get buckets dictionary\n",
    "buckets = bucket_response['Buckets']\n",
    "print(buckets)\n",
    "\n",
    "#delete bucket\n",
    "response = s3.delete_bucket(Bucket='gid-request')"
   ]
  },
  {
   "cell_type": "markdown",
   "metadata": {},
   "source": [
    "A Bucket\n",
    "- A bucket has a name\n",
    "- Name is a string\n",
    "- Unique name in all of S3\n",
    "- Contains many objects\n",
    "\n",
    "An Object\n",
    "- An object has a key\n",
    "- Name is full path from bucket root\n",
    "- Unique key in the bucket\n",
    "- Can only be in one parent bucket"
   ]
  },
  {
   "cell_type": "code",
   "execution_count": null,
   "metadata": {},
   "outputs": [],
   "source": [
    "#Uploading Files\n",
    "s3.upload_file(\n",
    "    Filename='gid_requests_2019_01_01.csv',\n",
    "    Bucket='gid-requests',\n",
    "    Key='gid_requests_2019_01_01.csv'\n",
    ")\n",
    "\n",
    "#Listing objects in a bucket\n",
    "response= s3.list_objects(\n",
    "    Bucket='gid-requests',\n",
    "    MaxKeys=2,\n",
    "    Prefix='gid_request_2019_'\n",
    ")\n",
    "\n",
    "print(response)\n",
    "\n",
    "#Getting object metadata\n",
    "response = s3.head_object(\n",
    "    Bucket='gid-requests',\n",
    "    Key='gid_requests_2018_12_30.csv'\n",
    ")\n",
    "\n",
    "#Downloading files\n",
    "s3.download_file(\n",
    "    Filename='gid_requests_downed.csv',\n",
    "    Bucket='gid-requests',\n",
    "    Key='gid-requests_2018_12_30.csv'\n",
    ")\n",
    "\n",
    "#Deleting objects\n",
    "s3.delete_object(\n",
    "    Bucket='gid-requests',\n",
    "    Key='gid_requests_2018_12_30.csv'\n",
    ")"
   ]
  }
 ],
 "metadata": {
  "language_info": {
   "name": "python"
  }
 },
 "nbformat": 4,
 "nbformat_minor": 2
}
