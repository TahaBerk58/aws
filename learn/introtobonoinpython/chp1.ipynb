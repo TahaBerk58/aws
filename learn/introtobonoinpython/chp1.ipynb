{
 "cells": [
  {
   "cell_type": "markdown",
   "metadata": {},
   "source": [
    "AWS Services\n",
    "IAM, S3, SNS, Comprehend and Rekognition\n",
    "AWS Key / Secret\n",
    "Connecting to S3 Using Boto"
   ]
  },
  {
   "cell_type": "code",
   "execution_count": null,
   "metadata": {},
   "outputs": [],
   "source": [
    "#creating bptp3 client\n",
    "import boto3\n",
    "\n",
    "s3 = boto3.client('s3',\n",
    "                 region_name='us-east-1',\n",
    "                 aws_access_key_id=AWS_KEY_ID,\n",
    "                 aws_secret_access_key=AWS_SECRET)\n",
    "\n",
    "response = s3.list_buckets()"
   ]
  },
  {
   "cell_type": "code",
   "execution_count": null,
   "metadata": {},
   "outputs": [],
   "source": [
    "#create bucket\n",
    "bucket = s3.create_bucket(Bucket='gid-request')\n",
    "\n",
    "#list buckets\n",
    "bucket_response = s3.list_buckets()\n",
    "\n",
    "#get buckets dictionary\n",
    "buckets = bucket_response['Buckets']\n",
    "print(buckets)\n",
    "\n",
    "#delete bucket\n",
    "response = s3.delete_bucket(Bucket='gid-request')"
   ]
  }
 ],
 "metadata": {
  "language_info": {
   "name": "python"
  }
 },
 "nbformat": 4,
 "nbformat_minor": 2
}
